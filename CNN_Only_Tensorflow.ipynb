{
  "nbformat": 4,
  "nbformat_minor": 0,
  "metadata": {
    "colab": {
      "name": "CNN_Only_Tensorflow.ipynb",
      "provenance": [],
      "collapsed_sections": []
    },
    "kernelspec": {
      "display_name": "Python 3",
      "language": "python",
      "name": "python3"
    },
    "language_info": {
      "codemirror_mode": {
        "name": "ipython",
        "version": 3
      },
      "file_extension": ".py",
      "mimetype": "text/x-python",
      "name": "python",
      "nbconvert_exporter": "python",
      "pygments_lexer": "ipython3",
      "version": "3.8.5"
    }
  },
  "cells": [
    {
      "cell_type": "code",
      "metadata": {
        "colab": {
          "base_uri": "https://localhost:8080/"
        },
        "id": "1vVbL2ZaO2tu",
        "outputId": "1d3d3638-b382-4789-87c9-cda920bc72ab"
      },
      "source": [
        "from google.colab import drive\n",
        "drive.mount('/content/drive')\n",
        "import numpy as np\n",
        "import pandas as pd\n",
        "import seaborn as sns\n",
        "import matplotlib.pyplot as plt\n",
        "import tensorflow as tf\n",
        "from sklearn.model_selection import train_test_split\n",
        "from sklearn import metrics"
      ],
      "execution_count": null,
      "outputs": [
        {
          "output_type": "stream",
          "text": [
            "Drive already mounted at /content/drive; to attempt to forcibly remount, call drive.mount(\"/content/drive\", force_remount=True).\n"
          ],
          "name": "stdout"
        }
      ]
    },
    {
      "cell_type": "code",
      "metadata": {
        "colab": {
          "base_uri": "https://localhost:8080/",
          "height": 424
        },
        "id": "u4fZgGKfO2tw",
        "outputId": "01bdadf9-dcb6-4cff-e329-6287630cd160"
      },
      "source": [
        "#Load data frame using pandas\n",
        "df = pd.read_csv('/content/drive/My Drive/1_gecco2019_water_quality.csv', index_col = 0)\n",
        "df\n",
        "#Colab Notebooks/"
      ],
      "execution_count": null,
      "outputs": [
        {
          "output_type": "execute_result",
          "data": {
            "text/html": [
              "<div>\n",
              "<style scoped>\n",
              "    .dataframe tbody tr th:only-of-type {\n",
              "        vertical-align: middle;\n",
              "    }\n",
              "\n",
              "    .dataframe tbody tr th {\n",
              "        vertical-align: top;\n",
              "    }\n",
              "\n",
              "    .dataframe thead th {\n",
              "        text-align: right;\n",
              "    }\n",
              "</style>\n",
              "<table border=\"1\" class=\"dataframe\">\n",
              "  <thead>\n",
              "    <tr style=\"text-align: right;\">\n",
              "      <th></th>\n",
              "      <th>Time</th>\n",
              "      <th>Tp</th>\n",
              "      <th>pH</th>\n",
              "      <th>Cond</th>\n",
              "      <th>Turb</th>\n",
              "      <th>SAC</th>\n",
              "      <th>PFM</th>\n",
              "      <th>Event</th>\n",
              "    </tr>\n",
              "  </thead>\n",
              "  <tbody>\n",
              "    <tr>\n",
              "      <th>1</th>\n",
              "      <td>2017-07-01 00:00:00</td>\n",
              "      <td>6.94</td>\n",
              "      <td>8.60774</td>\n",
              "      <td>0.020954</td>\n",
              "      <td>0.125931</td>\n",
              "      <td>3.58683</td>\n",
              "      <td>43.7559</td>\n",
              "      <td>False</td>\n",
              "    </tr>\n",
              "    <tr>\n",
              "      <th>2</th>\n",
              "      <td>2017-07-01 00:01:00</td>\n",
              "      <td>6.93</td>\n",
              "      <td>8.60589</td>\n",
              "      <td>0.020965</td>\n",
              "      <td>0.127219</td>\n",
              "      <td>3.59025</td>\n",
              "      <td>43.4366</td>\n",
              "      <td>False</td>\n",
              "    </tr>\n",
              "    <tr>\n",
              "      <th>3</th>\n",
              "      <td>2017-07-01 00:02:00</td>\n",
              "      <td>6.94</td>\n",
              "      <td>8.60220</td>\n",
              "      <td>0.020968</td>\n",
              "      <td>0.126482</td>\n",
              "      <td>3.58318</td>\n",
              "      <td>43.5994</td>\n",
              "      <td>False</td>\n",
              "    </tr>\n",
              "    <tr>\n",
              "      <th>4</th>\n",
              "      <td>2017-07-01 00:03:00</td>\n",
              "      <td>6.94</td>\n",
              "      <td>8.60220</td>\n",
              "      <td>0.020972</td>\n",
              "      <td>0.126184</td>\n",
              "      <td>3.58769</td>\n",
              "      <td>43.3704</td>\n",
              "      <td>False</td>\n",
              "    </tr>\n",
              "    <tr>\n",
              "      <th>5</th>\n",
              "      <td>2017-07-01 00:04:00</td>\n",
              "      <td>6.94</td>\n",
              "      <td>8.60405</td>\n",
              "      <td>0.020974</td>\n",
              "      <td>0.127908</td>\n",
              "      <td>3.58287</td>\n",
              "      <td>43.1656</td>\n",
              "      <td>False</td>\n",
              "    </tr>\n",
              "    <tr>\n",
              "      <th>...</th>\n",
              "      <td>...</td>\n",
              "      <td>...</td>\n",
              "      <td>...</td>\n",
              "      <td>...</td>\n",
              "      <td>...</td>\n",
              "      <td>...</td>\n",
              "      <td>...</td>\n",
              "      <td>...</td>\n",
              "    </tr>\n",
              "    <tr>\n",
              "      <th>132476</th>\n",
              "      <td>2017-09-30 23:55:00</td>\n",
              "      <td>10.30</td>\n",
              "      <td>8.56593</td>\n",
              "      <td>0.020724</td>\n",
              "      <td>0.126518</td>\n",
              "      <td>4.53577</td>\n",
              "      <td>56.4686</td>\n",
              "      <td>False</td>\n",
              "    </tr>\n",
              "    <tr>\n",
              "      <th>132477</th>\n",
              "      <td>2017-09-30 23:56:00</td>\n",
              "      <td>10.30</td>\n",
              "      <td>8.56593</td>\n",
              "      <td>0.020727</td>\n",
              "      <td>0.126575</td>\n",
              "      <td>4.53008</td>\n",
              "      <td>56.3567</td>\n",
              "      <td>False</td>\n",
              "    </tr>\n",
              "    <tr>\n",
              "      <th>132478</th>\n",
              "      <td>2017-09-30 23:57:00</td>\n",
              "      <td>10.30</td>\n",
              "      <td>8.56593</td>\n",
              "      <td>0.020723</td>\n",
              "      <td>0.126512</td>\n",
              "      <td>4.53512</td>\n",
              "      <td>55.0477</td>\n",
              "      <td>False</td>\n",
              "    </tr>\n",
              "    <tr>\n",
              "      <th>132479</th>\n",
              "      <td>2017-09-30 23:58:00</td>\n",
              "      <td>10.30</td>\n",
              "      <td>8.56228</td>\n",
              "      <td>0.020720</td>\n",
              "      <td>0.126477</td>\n",
              "      <td>4.54084</td>\n",
              "      <td>55.4052</td>\n",
              "      <td>False</td>\n",
              "    </tr>\n",
              "    <tr>\n",
              "      <th>132480</th>\n",
              "      <td>2017-09-30 23:59:00</td>\n",
              "      <td>10.30</td>\n",
              "      <td>8.56410</td>\n",
              "      <td>0.020723</td>\n",
              "      <td>0.126566</td>\n",
              "      <td>4.53445</td>\n",
              "      <td>54.9886</td>\n",
              "      <td>False</td>\n",
              "    </tr>\n",
              "  </tbody>\n",
              "</table>\n",
              "<p>132480 rows × 8 columns</p>\n",
              "</div>"
            ],
            "text/plain": [
              "                       Time     Tp       pH  ...      SAC      PFM  Event\n",
              "1       2017-07-01 00:00:00   6.94  8.60774  ...  3.58683  43.7559  False\n",
              "2       2017-07-01 00:01:00   6.93  8.60589  ...  3.59025  43.4366  False\n",
              "3       2017-07-01 00:02:00   6.94  8.60220  ...  3.58318  43.5994  False\n",
              "4       2017-07-01 00:03:00   6.94  8.60220  ...  3.58769  43.3704  False\n",
              "5       2017-07-01 00:04:00   6.94  8.60405  ...  3.58287  43.1656  False\n",
              "...                     ...    ...      ...  ...      ...      ...    ...\n",
              "132476  2017-09-30 23:55:00  10.30  8.56593  ...  4.53577  56.4686  False\n",
              "132477  2017-09-30 23:56:00  10.30  8.56593  ...  4.53008  56.3567  False\n",
              "132478  2017-09-30 23:57:00  10.30  8.56593  ...  4.53512  55.0477  False\n",
              "132479  2017-09-30 23:58:00  10.30  8.56228  ...  4.54084  55.4052  False\n",
              "132480  2017-09-30 23:59:00  10.30  8.56410  ...  4.53445  54.9886  False\n",
              "\n",
              "[132480 rows x 8 columns]"
            ]
          },
          "metadata": {
            "tags": []
          },
          "execution_count": 4
        }
      ]
    },
    {
      "cell_type": "code",
      "metadata": {
        "id": "-JPCg41yO2tx"
      },
      "source": [
        "#Map True and False to values 0 and 1 respectively\n",
        "\n",
        "#0 represents Anomaly\n",
        "#1 represents Normalcy\n",
        "\n",
        "df['Event'] = df['Event'].astype('category')\n",
        "encode_map ={\n",
        "    False : 1,\n",
        "    True : 0 }\n",
        "\n",
        "df['Event'].replace(encode_map, inplace=True)  "
      ],
      "execution_count": null,
      "outputs": []
    },
    {
      "cell_type": "code",
      "metadata": {
        "colab": {
          "base_uri": "https://localhost:8080/"
        },
        "id": "Qofcf7C0O2ty",
        "outputId": "75d3cb48-12dd-4f60-a016-c21aa5b4af77"
      },
      "source": [
        "#Count of values of 0 and 1\n",
        "\n",
        "df['Event'].value_counts()"
      ],
      "execution_count": null,
      "outputs": [
        {
          "output_type": "execute_result",
          "data": {
            "text/plain": [
              "1    132268\n",
              "0       212\n",
              "Name: Event, dtype: int64"
            ]
          },
          "metadata": {
            "tags": []
          },
          "execution_count": 6
        }
      ]
    },
    {
      "cell_type": "code",
      "metadata": {
        "id": "4pVhyFLuis2n"
      },
      "source": [
        "#Wherever some of the fields are not filled with data,fill those fields with the mean value\n",
        "\n",
        "\n",
        "df['pH'].fillna((df['pH'].mean()), inplace=True)\n",
        "df['Tp'].fillna((df['Tp'].mean()), inplace=True)\n",
        "df['Cond'].fillna((df['Cond'].mean()), inplace=True)\n",
        "df['Turb'].fillna((df['Turb'].mean()), inplace=True)\n",
        "df['SAC'].fillna((df['SAC'].mean()), inplace=True)\n",
        "df['PFM'].fillna((df['PFM'].mean()), inplace=True)"
      ],
      "execution_count": null,
      "outputs": []
    },
    {
      "cell_type": "code",
      "metadata": {
        "colab": {
          "base_uri": "https://localhost:8080/",
          "height": 424
        },
        "id": "B3Ol8g28oPwj",
        "outputId": "7b9fbd26-ae15-4b90-93e7-1575e2b674ff"
      },
      "source": [
        "df"
      ],
      "execution_count": null,
      "outputs": [
        {
          "output_type": "execute_result",
          "data": {
            "text/html": [
              "<div>\n",
              "<style scoped>\n",
              "    .dataframe tbody tr th:only-of-type {\n",
              "        vertical-align: middle;\n",
              "    }\n",
              "\n",
              "    .dataframe tbody tr th {\n",
              "        vertical-align: top;\n",
              "    }\n",
              "\n",
              "    .dataframe thead th {\n",
              "        text-align: right;\n",
              "    }\n",
              "</style>\n",
              "<table border=\"1\" class=\"dataframe\">\n",
              "  <thead>\n",
              "    <tr style=\"text-align: right;\">\n",
              "      <th></th>\n",
              "      <th>Time</th>\n",
              "      <th>Tp</th>\n",
              "      <th>pH</th>\n",
              "      <th>Cond</th>\n",
              "      <th>Turb</th>\n",
              "      <th>SAC</th>\n",
              "      <th>PFM</th>\n",
              "      <th>Event</th>\n",
              "    </tr>\n",
              "  </thead>\n",
              "  <tbody>\n",
              "    <tr>\n",
              "      <th>1</th>\n",
              "      <td>2017-07-01 00:00:00</td>\n",
              "      <td>6.94</td>\n",
              "      <td>8.60774</td>\n",
              "      <td>0.020954</td>\n",
              "      <td>0.125931</td>\n",
              "      <td>3.58683</td>\n",
              "      <td>43.7559</td>\n",
              "      <td>1</td>\n",
              "    </tr>\n",
              "    <tr>\n",
              "      <th>2</th>\n",
              "      <td>2017-07-01 00:01:00</td>\n",
              "      <td>6.93</td>\n",
              "      <td>8.60589</td>\n",
              "      <td>0.020965</td>\n",
              "      <td>0.127219</td>\n",
              "      <td>3.59025</td>\n",
              "      <td>43.4366</td>\n",
              "      <td>1</td>\n",
              "    </tr>\n",
              "    <tr>\n",
              "      <th>3</th>\n",
              "      <td>2017-07-01 00:02:00</td>\n",
              "      <td>6.94</td>\n",
              "      <td>8.60220</td>\n",
              "      <td>0.020968</td>\n",
              "      <td>0.126482</td>\n",
              "      <td>3.58318</td>\n",
              "      <td>43.5994</td>\n",
              "      <td>1</td>\n",
              "    </tr>\n",
              "    <tr>\n",
              "      <th>4</th>\n",
              "      <td>2017-07-01 00:03:00</td>\n",
              "      <td>6.94</td>\n",
              "      <td>8.60220</td>\n",
              "      <td>0.020972</td>\n",
              "      <td>0.126184</td>\n",
              "      <td>3.58769</td>\n",
              "      <td>43.3704</td>\n",
              "      <td>1</td>\n",
              "    </tr>\n",
              "    <tr>\n",
              "      <th>5</th>\n",
              "      <td>2017-07-01 00:04:00</td>\n",
              "      <td>6.94</td>\n",
              "      <td>8.60405</td>\n",
              "      <td>0.020974</td>\n",
              "      <td>0.127908</td>\n",
              "      <td>3.58287</td>\n",
              "      <td>43.1656</td>\n",
              "      <td>1</td>\n",
              "    </tr>\n",
              "    <tr>\n",
              "      <th>...</th>\n",
              "      <td>...</td>\n",
              "      <td>...</td>\n",
              "      <td>...</td>\n",
              "      <td>...</td>\n",
              "      <td>...</td>\n",
              "      <td>...</td>\n",
              "      <td>...</td>\n",
              "      <td>...</td>\n",
              "    </tr>\n",
              "    <tr>\n",
              "      <th>132476</th>\n",
              "      <td>2017-09-30 23:55:00</td>\n",
              "      <td>10.30</td>\n",
              "      <td>8.56593</td>\n",
              "      <td>0.020724</td>\n",
              "      <td>0.126518</td>\n",
              "      <td>4.53577</td>\n",
              "      <td>56.4686</td>\n",
              "      <td>1</td>\n",
              "    </tr>\n",
              "    <tr>\n",
              "      <th>132477</th>\n",
              "      <td>2017-09-30 23:56:00</td>\n",
              "      <td>10.30</td>\n",
              "      <td>8.56593</td>\n",
              "      <td>0.020727</td>\n",
              "      <td>0.126575</td>\n",
              "      <td>4.53008</td>\n",
              "      <td>56.3567</td>\n",
              "      <td>1</td>\n",
              "    </tr>\n",
              "    <tr>\n",
              "      <th>132478</th>\n",
              "      <td>2017-09-30 23:57:00</td>\n",
              "      <td>10.30</td>\n",
              "      <td>8.56593</td>\n",
              "      <td>0.020723</td>\n",
              "      <td>0.126512</td>\n",
              "      <td>4.53512</td>\n",
              "      <td>55.0477</td>\n",
              "      <td>1</td>\n",
              "    </tr>\n",
              "    <tr>\n",
              "      <th>132479</th>\n",
              "      <td>2017-09-30 23:58:00</td>\n",
              "      <td>10.30</td>\n",
              "      <td>8.56228</td>\n",
              "      <td>0.020720</td>\n",
              "      <td>0.126477</td>\n",
              "      <td>4.54084</td>\n",
              "      <td>55.4052</td>\n",
              "      <td>1</td>\n",
              "    </tr>\n",
              "    <tr>\n",
              "      <th>132480</th>\n",
              "      <td>2017-09-30 23:59:00</td>\n",
              "      <td>10.30</td>\n",
              "      <td>8.56410</td>\n",
              "      <td>0.020723</td>\n",
              "      <td>0.126566</td>\n",
              "      <td>4.53445</td>\n",
              "      <td>54.9886</td>\n",
              "      <td>1</td>\n",
              "    </tr>\n",
              "  </tbody>\n",
              "</table>\n",
              "<p>132480 rows × 8 columns</p>\n",
              "</div>"
            ],
            "text/plain": [
              "                       Time     Tp       pH  ...      SAC      PFM  Event\n",
              "1       2017-07-01 00:00:00   6.94  8.60774  ...  3.58683  43.7559      1\n",
              "2       2017-07-01 00:01:00   6.93  8.60589  ...  3.59025  43.4366      1\n",
              "3       2017-07-01 00:02:00   6.94  8.60220  ...  3.58318  43.5994      1\n",
              "4       2017-07-01 00:03:00   6.94  8.60220  ...  3.58769  43.3704      1\n",
              "5       2017-07-01 00:04:00   6.94  8.60405  ...  3.58287  43.1656      1\n",
              "...                     ...    ...      ...  ...      ...      ...    ...\n",
              "132476  2017-09-30 23:55:00  10.30  8.56593  ...  4.53577  56.4686      1\n",
              "132477  2017-09-30 23:56:00  10.30  8.56593  ...  4.53008  56.3567      1\n",
              "132478  2017-09-30 23:57:00  10.30  8.56593  ...  4.53512  55.0477      1\n",
              "132479  2017-09-30 23:58:00  10.30  8.56228  ...  4.54084  55.4052      1\n",
              "132480  2017-09-30 23:59:00  10.30  8.56410  ...  4.53445  54.9886      1\n",
              "\n",
              "[132480 rows x 8 columns]"
            ]
          },
          "metadata": {
            "tags": []
          },
          "execution_count": 8
        }
      ]
    },
    {
      "cell_type": "code",
      "metadata": {
        "colab": {
          "base_uri": "https://localhost:8080/"
        },
        "id": "aJu4eUZ-p8BR",
        "outputId": "ce1edfc9-a4bd-429d-d3b9-1495e0b5c855"
      },
      "source": [
        "df.info()"
      ],
      "execution_count": null,
      "outputs": [
        {
          "output_type": "stream",
          "text": [
            "<class 'pandas.core.frame.DataFrame'>\n",
            "Int64Index: 132480 entries, 1 to 132480\n",
            "Data columns (total 8 columns):\n",
            " #   Column  Non-Null Count   Dtype  \n",
            "---  ------  --------------   -----  \n",
            " 0   Time    132480 non-null  object \n",
            " 1   Tp      132480 non-null  float64\n",
            " 2   pH      132480 non-null  float64\n",
            " 3   Cond    132480 non-null  float64\n",
            " 4   Turb    132480 non-null  float64\n",
            " 5   SAC     132480 non-null  float64\n",
            " 6   PFM     132480 non-null  float64\n",
            " 7   Event   132480 non-null  int64  \n",
            "dtypes: float64(6), int64(1), object(1)\n",
            "memory usage: 9.1+ MB\n"
          ],
          "name": "stdout"
        }
      ]
    },
    {
      "cell_type": "code",
      "metadata": {
        "colab": {
          "base_uri": "https://localhost:8080/"
        },
        "id": "Q4m2r-r0pSD6",
        "outputId": "6be428b5-779f-4de6-a657-cab421329d27"
      },
      "source": [
        "#Data Type conversion\n",
        "\n",
        "df['Time'] = pd.to_datetime(df['Time']).astype(np.int64)\n",
        "df['Tp'] = df['Tp'].astype('float32')\n",
        "df['pH'] = df['pH'].astype('float32')\n",
        "df['Cond'] = df['Cond'].astype('float32')\n",
        "df['Turb'] = df['Turb'].astype('float32')\n",
        "df['SAC'] = df['SAC'].astype('float32')\n",
        "df['PFM'] = df['PFM'].astype('float32')\n",
        "df.info()"
      ],
      "execution_count": null,
      "outputs": [
        {
          "output_type": "stream",
          "text": [
            "<class 'pandas.core.frame.DataFrame'>\n",
            "Int64Index: 132480 entries, 1 to 132480\n",
            "Data columns (total 8 columns):\n",
            " #   Column  Non-Null Count   Dtype  \n",
            "---  ------  --------------   -----  \n",
            " 0   Time    132480 non-null  int64  \n",
            " 1   Tp      132480 non-null  float32\n",
            " 2   pH      132480 non-null  float32\n",
            " 3   Cond    132480 non-null  float32\n",
            " 4   Turb    132480 non-null  float32\n",
            " 5   SAC     132480 non-null  float32\n",
            " 6   PFM     132480 non-null  float32\n",
            " 7   Event   132480 non-null  int64  \n",
            "dtypes: float32(6), int64(2)\n",
            "memory usage: 6.1 MB\n"
          ],
          "name": "stdout"
        }
      ]
    },
    {
      "cell_type": "code",
      "metadata": {
        "colab": {
          "base_uri": "https://localhost:8080/",
          "height": 424
        },
        "id": "apw_3JDWO2tz",
        "outputId": "ebc45fd3-1882-46ea-d022-b4d10cdb6948"
      },
      "source": [
        "#Define Input Columns(X) and Output Columns(y) \n",
        "\n",
        "X = df.iloc[:, 1:7]\n",
        "y = df.iloc[:, -1]\n",
        "X"
      ],
      "execution_count": null,
      "outputs": [
        {
          "output_type": "execute_result",
          "data": {
            "text/html": [
              "<div>\n",
              "<style scoped>\n",
              "    .dataframe tbody tr th:only-of-type {\n",
              "        vertical-align: middle;\n",
              "    }\n",
              "\n",
              "    .dataframe tbody tr th {\n",
              "        vertical-align: top;\n",
              "    }\n",
              "\n",
              "    .dataframe thead th {\n",
              "        text-align: right;\n",
              "    }\n",
              "</style>\n",
              "<table border=\"1\" class=\"dataframe\">\n",
              "  <thead>\n",
              "    <tr style=\"text-align: right;\">\n",
              "      <th></th>\n",
              "      <th>Tp</th>\n",
              "      <th>pH</th>\n",
              "      <th>Cond</th>\n",
              "      <th>Turb</th>\n",
              "      <th>SAC</th>\n",
              "      <th>PFM</th>\n",
              "    </tr>\n",
              "  </thead>\n",
              "  <tbody>\n",
              "    <tr>\n",
              "      <th>1</th>\n",
              "      <td>6.94</td>\n",
              "      <td>8.60774</td>\n",
              "      <td>0.020954</td>\n",
              "      <td>0.125931</td>\n",
              "      <td>3.58683</td>\n",
              "      <td>43.755901</td>\n",
              "    </tr>\n",
              "    <tr>\n",
              "      <th>2</th>\n",
              "      <td>6.93</td>\n",
              "      <td>8.60589</td>\n",
              "      <td>0.020965</td>\n",
              "      <td>0.127219</td>\n",
              "      <td>3.59025</td>\n",
              "      <td>43.436600</td>\n",
              "    </tr>\n",
              "    <tr>\n",
              "      <th>3</th>\n",
              "      <td>6.94</td>\n",
              "      <td>8.60220</td>\n",
              "      <td>0.020968</td>\n",
              "      <td>0.126482</td>\n",
              "      <td>3.58318</td>\n",
              "      <td>43.599400</td>\n",
              "    </tr>\n",
              "    <tr>\n",
              "      <th>4</th>\n",
              "      <td>6.94</td>\n",
              "      <td>8.60220</td>\n",
              "      <td>0.020972</td>\n",
              "      <td>0.126184</td>\n",
              "      <td>3.58769</td>\n",
              "      <td>43.370399</td>\n",
              "    </tr>\n",
              "    <tr>\n",
              "      <th>5</th>\n",
              "      <td>6.94</td>\n",
              "      <td>8.60405</td>\n",
              "      <td>0.020973</td>\n",
              "      <td>0.127908</td>\n",
              "      <td>3.58287</td>\n",
              "      <td>43.165600</td>\n",
              "    </tr>\n",
              "    <tr>\n",
              "      <th>...</th>\n",
              "      <td>...</td>\n",
              "      <td>...</td>\n",
              "      <td>...</td>\n",
              "      <td>...</td>\n",
              "      <td>...</td>\n",
              "      <td>...</td>\n",
              "    </tr>\n",
              "    <tr>\n",
              "      <th>132476</th>\n",
              "      <td>10.30</td>\n",
              "      <td>8.56593</td>\n",
              "      <td>0.020724</td>\n",
              "      <td>0.126518</td>\n",
              "      <td>4.53577</td>\n",
              "      <td>56.468601</td>\n",
              "    </tr>\n",
              "    <tr>\n",
              "      <th>132477</th>\n",
              "      <td>10.30</td>\n",
              "      <td>8.56593</td>\n",
              "      <td>0.020727</td>\n",
              "      <td>0.126575</td>\n",
              "      <td>4.53008</td>\n",
              "      <td>56.356701</td>\n",
              "    </tr>\n",
              "    <tr>\n",
              "      <th>132478</th>\n",
              "      <td>10.30</td>\n",
              "      <td>8.56593</td>\n",
              "      <td>0.020723</td>\n",
              "      <td>0.126512</td>\n",
              "      <td>4.53512</td>\n",
              "      <td>55.047699</td>\n",
              "    </tr>\n",
              "    <tr>\n",
              "      <th>132479</th>\n",
              "      <td>10.30</td>\n",
              "      <td>8.56228</td>\n",
              "      <td>0.020720</td>\n",
              "      <td>0.126477</td>\n",
              "      <td>4.54084</td>\n",
              "      <td>55.405201</td>\n",
              "    </tr>\n",
              "    <tr>\n",
              "      <th>132480</th>\n",
              "      <td>10.30</td>\n",
              "      <td>8.56410</td>\n",
              "      <td>0.020723</td>\n",
              "      <td>0.126566</td>\n",
              "      <td>4.53445</td>\n",
              "      <td>54.988602</td>\n",
              "    </tr>\n",
              "  </tbody>\n",
              "</table>\n",
              "<p>132480 rows × 6 columns</p>\n",
              "</div>"
            ],
            "text/plain": [
              "           Tp       pH      Cond      Turb      SAC        PFM\n",
              "1        6.94  8.60774  0.020954  0.125931  3.58683  43.755901\n",
              "2        6.93  8.60589  0.020965  0.127219  3.59025  43.436600\n",
              "3        6.94  8.60220  0.020968  0.126482  3.58318  43.599400\n",
              "4        6.94  8.60220  0.020972  0.126184  3.58769  43.370399\n",
              "5        6.94  8.60405  0.020973  0.127908  3.58287  43.165600\n",
              "...       ...      ...       ...       ...      ...        ...\n",
              "132476  10.30  8.56593  0.020724  0.126518  4.53577  56.468601\n",
              "132477  10.30  8.56593  0.020727  0.126575  4.53008  56.356701\n",
              "132478  10.30  8.56593  0.020723  0.126512  4.53512  55.047699\n",
              "132479  10.30  8.56228  0.020720  0.126477  4.54084  55.405201\n",
              "132480  10.30  8.56410  0.020723  0.126566  4.53445  54.988602\n",
              "\n",
              "[132480 rows x 6 columns]"
            ]
          },
          "metadata": {
            "tags": []
          },
          "execution_count": 11
        }
      ]
    },
    {
      "cell_type": "code",
      "metadata": {
        "colab": {
          "base_uri": "https://localhost:8080/"
        },
        "id": "2dDviYPuCES2",
        "outputId": "514b30da-1bf8-48b7-9637-c9b2347c4c32"
      },
      "source": [
        "#Normalise the values\n",
        "\n",
        "from sklearn.preprocessing import MinMaxScaler\n",
        "scaler = MinMaxScaler() \n",
        "X = scaler.fit_transform(X) \n",
        "X"
      ],
      "execution_count": null,
      "outputs": [
        {
          "output_type": "execute_result",
          "data": {
            "text/plain": [
              "array([[0.6737864 , 0.99319005, 0.9026238 , 0.07063466, 0.5878054 ,\n",
              "        0.03734416],\n",
              "       [0.6728155 , 0.99297655, 0.9031321 , 0.0713571 , 0.58836585,\n",
              "        0.02985793],\n",
              "       [0.6737864 , 0.99255073, 0.9032484 , 0.07094371, 0.5872072 ,\n",
              "        0.03367478],\n",
              "       ...,\n",
              "       [1.        , 0.9883659 , 0.8926773 , 0.07096054, 0.74321   ,\n",
              "        0.30208665],\n",
              "       [1.        , 0.98794466, 0.89255667, 0.07094091, 0.7441474 ,\n",
              "        0.3104685 ],\n",
              "       [1.        , 0.9881547 , 0.89269453, 0.07099082, 0.7431002 ,\n",
              "        0.30070108]], dtype=float32)"
            ]
          },
          "metadata": {
            "tags": []
          },
          "execution_count": 12
        }
      ]
    },
    {
      "cell_type": "code",
      "metadata": {
        "id": "jehldK-qO2t0"
      },
      "source": [
        "#Split Train and Test Data\n",
        "\n",
        "x_train, x_test, y_train, y_test = train_test_split(X, y, test_size=0.2, random_state=0)"
      ],
      "execution_count": null,
      "outputs": []
    },
    {
      "cell_type": "code",
      "metadata": {
        "colab": {
          "base_uri": "https://localhost:8080/"
        },
        "id": "BoQCcK2D78T-",
        "outputId": "ec7cc257-a518-4b0b-c83a-d9becffbcce3"
      },
      "source": [
        "#Over Sample the Data using SMOTE\n",
        "\n",
        "from imblearn.over_sampling import SMOTE \n",
        "sm = SMOTE(random_state=42)\n",
        "x_train, y_train = sm.fit_resample(x_train, y_train)"
      ],
      "execution_count": null,
      "outputs": [
        {
          "output_type": "stream",
          "text": [
            "/usr/local/lib/python3.6/dist-packages/sklearn/externals/six.py:31: FutureWarning: The module is deprecated in version 0.21 and will be removed in version 0.23 since we've dropped support for Python 2.7. Please rely on the official version of six (https://pypi.org/project/six/).\n",
            "  \"(https://pypi.org/project/six/).\", FutureWarning)\n",
            "/usr/local/lib/python3.6/dist-packages/sklearn/utils/deprecation.py:144: FutureWarning: The sklearn.neighbors.base module is  deprecated in version 0.22 and will be removed in version 0.24. The corresponding classes / functions should instead be imported from sklearn.neighbors. Anything that cannot be imported from sklearn.neighbors is now part of the private API.\n",
            "  warnings.warn(message, FutureWarning)\n",
            "/usr/local/lib/python3.6/dist-packages/sklearn/utils/deprecation.py:87: FutureWarning: Function safe_indexing is deprecated; safe_indexing is deprecated in version 0.22 and will be removed in version 0.24.\n",
            "  warnings.warn(msg, category=FutureWarning)\n"
          ],
          "name": "stderr"
        }
      ]
    },
    {
      "cell_type": "code",
      "metadata": {
        "colab": {
          "base_uri": "https://localhost:8080/"
        },
        "id": "2aR3NgreEsL3",
        "outputId": "176b28e6-12df-4c36-b6a5-b2cdd40eb976"
      },
      "source": [
        "#Encode output\n",
        "y_train=tf.keras.utils.to_categorical(y_train)\n",
        "y_test=tf.keras.utils.to_categorical(y_test)\n",
        "\n",
        "#Reshape Train Data\n",
        "x_train = x_train.reshape(x_train.shape[0],x_train.shape[1], 1)\n",
        "x_test = np.asarray(x_test).reshape(x_test.shape[0],x_test.shape[1], 1)\n",
        "\n",
        "print(x_train.shape)\n",
        "print(y_train.shape)\n",
        "print(x_test.shape)\n",
        "print(y_test.shape)"
      ],
      "execution_count": null,
      "outputs": [
        {
          "output_type": "stream",
          "text": [
            "(211610, 6, 1)\n",
            "(211610, 2)\n",
            "(26496, 6, 1)\n",
            "(26496, 2)\n"
          ],
          "name": "stdout"
        }
      ]
    },
    {
      "cell_type": "code",
      "metadata": {
        "colab": {
          "base_uri": "https://localhost:8080/"
        },
        "id": "fOoiwXOrO2t2",
        "outputId": "203f4b3d-8006-44fb-f508-187609ee8de2"
      },
      "source": [
        "verbose, epochs, batch_size = 0, 100, 64\n",
        "n_timesteps, n_features, n_outputs = x_train.shape[0], x_train.shape[1], y_train.shape[1]\n",
        "\n",
        "#Define CNN Model\n",
        "\n",
        "model = tf.keras.Sequential()\n",
        "model.add(tf.keras.layers.Conv1D(filters=64, kernel_size=2, activation='relu', input_shape=(x_train.shape[1], 1)))\n",
        "model.add(tf.keras.layers.Conv1D(filters=64, kernel_size=2, activation='relu'))\n",
        "model.add(tf.keras.layers.Dropout(0.5))\n",
        "model.add(tf.keras.layers.MaxPooling1D(pool_size=2))\n",
        "model.add(tf.keras.layers.Flatten())\n",
        "model.add(tf.keras.layers.Dense(100, activation='relu'))\n",
        "model.add(tf.keras.layers.Dense(n_outputs, activation='softmax'))\n",
        "opt = tf.keras.optimizers.SGD(lr=0.01, momentum=0.9)\n",
        "model.compile(loss='binary_crossentropy', optimizer=opt, metrics=['acc'])\n",
        "print(model.summary())\n",
        "\t\n",
        "# fit network\n",
        "hist = model.fit(x_train, y_train, epochs=epochs,validation_data=(x_test,y_test), batch_size=batch_size, verbose=1)      \n",
        "            "
      ],
      "execution_count": null,
      "outputs": [
        {
          "output_type": "stream",
          "text": [
            "Model: \"sequential\"\n",
            "_________________________________________________________________\n",
            "Layer (type)                 Output Shape              Param #   \n",
            "=================================================================\n",
            "conv1d (Conv1D)              (None, 5, 64)             192       \n",
            "_________________________________________________________________\n",
            "conv1d_1 (Conv1D)            (None, 4, 64)             8256      \n",
            "_________________________________________________________________\n",
            "dropout (Dropout)            (None, 4, 64)             0         \n",
            "_________________________________________________________________\n",
            "max_pooling1d (MaxPooling1D) (None, 2, 64)             0         \n",
            "_________________________________________________________________\n",
            "flatten (Flatten)            (None, 128)               0         \n",
            "_________________________________________________________________\n",
            "dense (Dense)                (None, 100)               12900     \n",
            "_________________________________________________________________\n",
            "dense_1 (Dense)              (None, 2)                 202       \n",
            "=================================================================\n",
            "Total params: 21,550\n",
            "Trainable params: 21,550\n",
            "Non-trainable params: 0\n",
            "_________________________________________________________________\n",
            "None\n",
            "Epoch 1/100\n",
            "3307/3307 [==============================] - 13s 4ms/step - loss: 0.6245 - acc: 0.6173 - val_loss: 0.3739 - val_acc: 0.9699\n",
            "Epoch 2/100\n",
            "3307/3307 [==============================] - 11s 3ms/step - loss: 0.4818 - acc: 0.7407 - val_loss: 0.3189 - val_acc: 0.9974\n",
            "Epoch 3/100\n",
            "3307/3307 [==============================] - 11s 3ms/step - loss: 0.3956 - acc: 0.8121 - val_loss: 0.2650 - val_acc: 0.9962\n",
            "Epoch 4/100\n",
            "3307/3307 [==============================] - 11s 3ms/step - loss: 0.3608 - acc: 0.8339 - val_loss: 0.2690 - val_acc: 0.9889\n",
            "Epoch 5/100\n",
            "3307/3307 [==============================] - 11s 3ms/step - loss: 0.3243 - acc: 0.8549 - val_loss: 0.2335 - val_acc: 0.9979\n",
            "Epoch 6/100\n",
            "3307/3307 [==============================] - 11s 3ms/step - loss: 0.3102 - acc: 0.8695 - val_loss: 0.1774 - val_acc: 0.9846\n",
            "Epoch 7/100\n",
            "3307/3307 [==============================] - 11s 3ms/step - loss: 0.2912 - acc: 0.8757 - val_loss: 0.1922 - val_acc: 0.9638\n",
            "Epoch 8/100\n",
            "3307/3307 [==============================] - 11s 3ms/step - loss: 0.2470 - acc: 0.8981 - val_loss: 0.0738 - val_acc: 0.9935\n",
            "Epoch 9/100\n",
            "3307/3307 [==============================] - 11s 3ms/step - loss: 0.2014 - acc: 0.9225 - val_loss: 0.0854 - val_acc: 0.9902\n",
            "Epoch 10/100\n",
            "3307/3307 [==============================] - 11s 3ms/step - loss: 0.1949 - acc: 0.9257 - val_loss: 0.0916 - val_acc: 0.9934\n",
            "Epoch 11/100\n",
            "3307/3307 [==============================] - 11s 3ms/step - loss: 0.1717 - acc: 0.9364 - val_loss: 0.0938 - val_acc: 0.9821\n",
            "Epoch 12/100\n",
            "3307/3307 [==============================] - 11s 3ms/step - loss: 0.1525 - acc: 0.9433 - val_loss: 0.0588 - val_acc: 0.9908\n",
            "Epoch 13/100\n",
            "3307/3307 [==============================] - 11s 3ms/step - loss: 0.1418 - acc: 0.9469 - val_loss: 0.3305 - val_acc: 0.8498\n",
            "Epoch 14/100\n",
            "3307/3307 [==============================] - 11s 3ms/step - loss: 0.1283 - acc: 0.9522 - val_loss: 0.0610 - val_acc: 0.9908\n",
            "Epoch 15/100\n",
            "3307/3307 [==============================] - 11s 3ms/step - loss: 0.1183 - acc: 0.9561 - val_loss: 0.0474 - val_acc: 0.9927\n",
            "Epoch 16/100\n",
            "3307/3307 [==============================] - 11s 3ms/step - loss: 0.1218 - acc: 0.9546 - val_loss: 0.0613 - val_acc: 0.9878\n",
            "Epoch 17/100\n",
            "3307/3307 [==============================] - 11s 3ms/step - loss: 0.1182 - acc: 0.9560 - val_loss: 0.1231 - val_acc: 0.9737\n",
            "Epoch 18/100\n",
            "3307/3307 [==============================] - 11s 3ms/step - loss: 0.1192 - acc: 0.9556 - val_loss: 0.0331 - val_acc: 0.9934\n",
            "Epoch 19/100\n",
            "3307/3307 [==============================] - 11s 3ms/step - loss: 0.1033 - acc: 0.9613 - val_loss: 0.1207 - val_acc: 0.9668\n",
            "Epoch 20/100\n",
            "3307/3307 [==============================] - 12s 4ms/step - loss: 0.1058 - acc: 0.9596 - val_loss: 0.0373 - val_acc: 0.9918\n",
            "Epoch 21/100\n",
            "3307/3307 [==============================] - 11s 3ms/step - loss: 0.1021 - acc: 0.9617 - val_loss: 0.1403 - val_acc: 0.9525\n",
            "Epoch 22/100\n",
            "3307/3307 [==============================] - 11s 3ms/step - loss: 0.1051 - acc: 0.9604 - val_loss: 0.0293 - val_acc: 0.9939\n",
            "Epoch 23/100\n",
            "3307/3307 [==============================] - 11s 3ms/step - loss: 0.0995 - acc: 0.9628 - val_loss: 0.0652 - val_acc: 0.9838\n",
            "Epoch 24/100\n",
            "3307/3307 [==============================] - 12s 4ms/step - loss: 0.0971 - acc: 0.9636 - val_loss: 0.0711 - val_acc: 0.9835\n",
            "Epoch 25/100\n",
            "3307/3307 [==============================] - 12s 4ms/step - loss: 0.0973 - acc: 0.9625 - val_loss: 0.0687 - val_acc: 0.9796\n",
            "Epoch 26/100\n",
            "3307/3307 [==============================] - 11s 3ms/step - loss: 0.0984 - acc: 0.9634 - val_loss: 0.0566 - val_acc: 0.9849\n",
            "Epoch 27/100\n",
            "3307/3307 [==============================] - 11s 3ms/step - loss: 0.0935 - acc: 0.9641 - val_loss: 0.0668 - val_acc: 0.9804\n",
            "Epoch 28/100\n",
            "3307/3307 [==============================] - 11s 3ms/step - loss: 0.0902 - acc: 0.9654 - val_loss: 0.0370 - val_acc: 0.9927\n",
            "Epoch 29/100\n",
            "3307/3307 [==============================] - 12s 4ms/step - loss: 0.0882 - acc: 0.9660 - val_loss: 0.1303 - val_acc: 0.9509\n",
            "Epoch 30/100\n",
            "3307/3307 [==============================] - 12s 4ms/step - loss: 0.0877 - acc: 0.9671 - val_loss: 0.0382 - val_acc: 0.9945\n",
            "Epoch 31/100\n",
            "3307/3307 [==============================] - 12s 4ms/step - loss: 0.0818 - acc: 0.9695 - val_loss: 0.2603 - val_acc: 0.8806\n",
            "Epoch 32/100\n",
            "3307/3307 [==============================] - 12s 4ms/step - loss: 0.0868 - acc: 0.9660 - val_loss: 0.0740 - val_acc: 0.9832\n",
            "Epoch 33/100\n",
            "3307/3307 [==============================] - 12s 3ms/step - loss: 0.0790 - acc: 0.9699 - val_loss: 0.0704 - val_acc: 0.9834\n",
            "Epoch 34/100\n",
            "3307/3307 [==============================] - 12s 4ms/step - loss: 0.0810 - acc: 0.9702 - val_loss: 0.1955 - val_acc: 0.9278\n",
            "Epoch 35/100\n",
            "3307/3307 [==============================] - 11s 3ms/step - loss: 0.0811 - acc: 0.9694 - val_loss: 0.0398 - val_acc: 0.9932\n",
            "Epoch 36/100\n",
            "3307/3307 [==============================] - 11s 3ms/step - loss: 0.0811 - acc: 0.9694 - val_loss: 0.0949 - val_acc: 0.9750\n",
            "Epoch 37/100\n",
            "3307/3307 [==============================] - 12s 4ms/step - loss: 0.0774 - acc: 0.9709 - val_loss: 0.0387 - val_acc: 0.9960\n",
            "Epoch 38/100\n",
            "3307/3307 [==============================] - 12s 4ms/step - loss: 0.0822 - acc: 0.9688 - val_loss: 0.0635 - val_acc: 0.9834\n",
            "Epoch 39/100\n",
            "3307/3307 [==============================] - 12s 4ms/step - loss: 0.0758 - acc: 0.9709 - val_loss: 0.0532 - val_acc: 0.9952\n",
            "Epoch 40/100\n",
            "3307/3307 [==============================] - 11s 3ms/step - loss: 0.0767 - acc: 0.9702 - val_loss: 0.0345 - val_acc: 0.9980\n",
            "Epoch 41/100\n",
            "3307/3307 [==============================] - 12s 4ms/step - loss: 0.0729 - acc: 0.9717 - val_loss: 0.0442 - val_acc: 0.9962\n",
            "Epoch 42/100\n",
            "3307/3307 [==============================] - 11s 3ms/step - loss: 0.0756 - acc: 0.9708 - val_loss: 0.0505 - val_acc: 0.9933\n",
            "Epoch 43/100\n",
            "3307/3307 [==============================] - 12s 3ms/step - loss: 0.0752 - acc: 0.9712 - val_loss: 0.0614 - val_acc: 0.9875\n",
            "Epoch 44/100\n",
            "3307/3307 [==============================] - 12s 3ms/step - loss: 0.0708 - acc: 0.9722 - val_loss: 0.0477 - val_acc: 0.9924\n",
            "Epoch 45/100\n",
            "3307/3307 [==============================] - 11s 3ms/step - loss: 0.0700 - acc: 0.9732 - val_loss: 0.0434 - val_acc: 0.9956\n",
            "Epoch 46/100\n",
            "3307/3307 [==============================] - 12s 4ms/step - loss: 0.0714 - acc: 0.9728 - val_loss: 0.0853 - val_acc: 0.9769\n",
            "Epoch 47/100\n",
            "3307/3307 [==============================] - 11s 3ms/step - loss: 0.0688 - acc: 0.9737 - val_loss: 0.0744 - val_acc: 0.9886\n",
            "Epoch 48/100\n",
            "3307/3307 [==============================] - 11s 3ms/step - loss: 0.0670 - acc: 0.9745 - val_loss: 0.0660 - val_acc: 0.9778\n",
            "Epoch 49/100\n",
            "3307/3307 [==============================] - 11s 3ms/step - loss: 0.0721 - acc: 0.9718 - val_loss: 0.0552 - val_acc: 0.9940\n",
            "Epoch 50/100\n",
            "3307/3307 [==============================] - 12s 3ms/step - loss: 0.0662 - acc: 0.9747 - val_loss: 0.1964 - val_acc: 0.9295\n",
            "Epoch 51/100\n",
            "3307/3307 [==============================] - 11s 3ms/step - loss: 0.0680 - acc: 0.9742 - val_loss: 0.0737 - val_acc: 0.9748\n",
            "Epoch 52/100\n",
            "3307/3307 [==============================] - 12s 4ms/step - loss: 0.0666 - acc: 0.9742 - val_loss: 0.1873 - val_acc: 0.9337\n",
            "Epoch 53/100\n",
            "3307/3307 [==============================] - 12s 3ms/step - loss: 0.0663 - acc: 0.9744 - val_loss: 0.0988 - val_acc: 0.9703\n",
            "Epoch 54/100\n",
            "3307/3307 [==============================] - 12s 4ms/step - loss: 0.0649 - acc: 0.9750 - val_loss: 0.0726 - val_acc: 0.9882\n",
            "Epoch 55/100\n",
            "3307/3307 [==============================] - 12s 4ms/step - loss: 0.0644 - acc: 0.9754 - val_loss: 0.0629 - val_acc: 0.9882\n",
            "Epoch 56/100\n",
            "3307/3307 [==============================] - 12s 3ms/step - loss: 0.0626 - acc: 0.9762 - val_loss: 0.0591 - val_acc: 0.9921\n",
            "Epoch 57/100\n",
            "3307/3307 [==============================] - 11s 3ms/step - loss: 0.0653 - acc: 0.9750 - val_loss: 0.0645 - val_acc: 0.9849\n",
            "Epoch 58/100\n",
            "3307/3307 [==============================] - 11s 3ms/step - loss: 0.0598 - acc: 0.9771 - val_loss: 0.0429 - val_acc: 0.9975\n",
            "Epoch 59/100\n",
            "3307/3307 [==============================] - 11s 3ms/step - loss: 0.0622 - acc: 0.9766 - val_loss: 0.0462 - val_acc: 0.9969\n",
            "Epoch 60/100\n",
            "3307/3307 [==============================] - 11s 3ms/step - loss: 0.0635 - acc: 0.9747 - val_loss: 0.0367 - val_acc: 0.9986\n",
            "Epoch 61/100\n",
            "3307/3307 [==============================] - 11s 3ms/step - loss: 0.0610 - acc: 0.9764 - val_loss: 0.0652 - val_acc: 0.9838\n",
            "Epoch 62/100\n",
            "3307/3307 [==============================] - 11s 3ms/step - loss: 0.0594 - acc: 0.9770 - val_loss: 0.0847 - val_acc: 0.9770\n",
            "Epoch 63/100\n",
            "3307/3307 [==============================] - 11s 3ms/step - loss: 0.0611 - acc: 0.9771 - val_loss: 0.0758 - val_acc: 0.9835\n",
            "Epoch 64/100\n",
            "3307/3307 [==============================] - 12s 3ms/step - loss: 0.0599 - acc: 0.9767 - val_loss: 0.0519 - val_acc: 0.9929\n",
            "Epoch 65/100\n",
            "3307/3307 [==============================] - 12s 4ms/step - loss: 0.0618 - acc: 0.9761 - val_loss: 0.1916 - val_acc: 0.9181\n",
            "Epoch 66/100\n",
            "3307/3307 [==============================] - 12s 4ms/step - loss: 0.0594 - acc: 0.9774 - val_loss: 0.1591 - val_acc: 0.9369\n",
            "Epoch 67/100\n",
            "3307/3307 [==============================] - 12s 4ms/step - loss: 0.0648 - acc: 0.9752 - val_loss: 0.1571 - val_acc: 0.9270\n",
            "Epoch 68/100\n",
            "3307/3307 [==============================] - 12s 3ms/step - loss: 0.0560 - acc: 0.9789 - val_loss: 0.0894 - val_acc: 0.9767\n",
            "Epoch 69/100\n",
            "3307/3307 [==============================] - 11s 3ms/step - loss: 0.0597 - acc: 0.9773 - val_loss: 0.0437 - val_acc: 0.9954\n",
            "Epoch 70/100\n",
            "3307/3307 [==============================] - 11s 3ms/step - loss: 0.0598 - acc: 0.9770 - val_loss: 0.0508 - val_acc: 0.9903\n",
            "Epoch 71/100\n",
            "3307/3307 [==============================] - 11s 3ms/step - loss: 0.0597 - acc: 0.9775 - val_loss: 0.0334 - val_acc: 0.9985\n",
            "Epoch 72/100\n",
            "3307/3307 [==============================] - 11s 3ms/step - loss: 0.0555 - acc: 0.9788 - val_loss: 0.0745 - val_acc: 0.9865\n",
            "Epoch 73/100\n",
            "3307/3307 [==============================] - 12s 4ms/step - loss: 0.0565 - acc: 0.9781 - val_loss: 0.0455 - val_acc: 0.9977\n",
            "Epoch 74/100\n",
            "3307/3307 [==============================] - 12s 3ms/step - loss: 0.0567 - acc: 0.9781 - val_loss: 0.0482 - val_acc: 0.9975\n",
            "Epoch 75/100\n",
            "3307/3307 [==============================] - 11s 3ms/step - loss: 0.0599 - acc: 0.9763 - val_loss: 0.0445 - val_acc: 0.9947\n",
            "Epoch 76/100\n",
            "3307/3307 [==============================] - 11s 3ms/step - loss: 0.0596 - acc: 0.9770 - val_loss: 0.0879 - val_acc: 0.9797\n",
            "Epoch 77/100\n",
            "3307/3307 [==============================] - 11s 3ms/step - loss: 0.0559 - acc: 0.9779 - val_loss: 0.0561 - val_acc: 0.9925\n",
            "Epoch 78/100\n",
            "3307/3307 [==============================] - 11s 3ms/step - loss: 0.0541 - acc: 0.9796 - val_loss: 0.0551 - val_acc: 0.9939\n",
            "Epoch 79/100\n",
            "3307/3307 [==============================] - 12s 4ms/step - loss: 0.0552 - acc: 0.9790 - val_loss: 0.1069 - val_acc: 0.9628\n",
            "Epoch 80/100\n",
            "3307/3307 [==============================] - 12s 3ms/step - loss: 0.0538 - acc: 0.9797 - val_loss: 0.0706 - val_acc: 0.9820\n",
            "Epoch 81/100\n",
            "3307/3307 [==============================] - 12s 3ms/step - loss: 0.0575 - acc: 0.9775 - val_loss: 0.0941 - val_acc: 0.9720\n",
            "Epoch 82/100\n",
            "3307/3307 [==============================] - 12s 4ms/step - loss: 0.0585 - acc: 0.9773 - val_loss: 0.0636 - val_acc: 0.9886\n",
            "Epoch 83/100\n",
            "3307/3307 [==============================] - 12s 3ms/step - loss: 0.0536 - acc: 0.9794 - val_loss: 0.0832 - val_acc: 0.9801\n",
            "Epoch 84/100\n",
            "3307/3307 [==============================] - 11s 3ms/step - loss: 0.0529 - acc: 0.9794 - val_loss: 0.0719 - val_acc: 0.9828\n",
            "Epoch 85/100\n",
            "3307/3307 [==============================] - 11s 3ms/step - loss: 0.0531 - acc: 0.9797 - val_loss: 0.0524 - val_acc: 0.9931\n",
            "Epoch 86/100\n",
            "3307/3307 [==============================] - 12s 4ms/step - loss: 0.0507 - acc: 0.9806 - val_loss: 0.0743 - val_acc: 0.9793\n",
            "Epoch 87/100\n",
            "3307/3307 [==============================] - 12s 3ms/step - loss: 0.0512 - acc: 0.9806 - val_loss: 0.1408 - val_acc: 0.9367\n",
            "Epoch 88/100\n",
            "3307/3307 [==============================] - 12s 3ms/step - loss: 0.0507 - acc: 0.9808 - val_loss: 0.0480 - val_acc: 0.9941\n",
            "Epoch 89/100\n",
            "3307/3307 [==============================] - 11s 3ms/step - loss: 0.0524 - acc: 0.9802 - val_loss: 0.0875 - val_acc: 0.9738\n",
            "Epoch 90/100\n",
            "3307/3307 [==============================] - 11s 3ms/step - loss: 0.0516 - acc: 0.9804 - val_loss: 0.0551 - val_acc: 0.9908\n",
            "Epoch 91/100\n",
            "3307/3307 [==============================] - 12s 3ms/step - loss: 0.0529 - acc: 0.9797 - val_loss: 0.0833 - val_acc: 0.9799\n",
            "Epoch 92/100\n",
            "3307/3307 [==============================] - 11s 3ms/step - loss: 0.0543 - acc: 0.9797 - val_loss: 0.0742 - val_acc: 0.9822\n",
            "Epoch 93/100\n",
            "3307/3307 [==============================] - 11s 3ms/step - loss: 0.0512 - acc: 0.9807 - val_loss: 0.0527 - val_acc: 0.9928\n",
            "Epoch 94/100\n",
            "3307/3307 [==============================] - 12s 3ms/step - loss: 0.0508 - acc: 0.9808 - val_loss: 0.0748 - val_acc: 0.9842\n",
            "Epoch 95/100\n",
            "3307/3307 [==============================] - 11s 3ms/step - loss: 0.0546 - acc: 0.9790 - val_loss: 0.0456 - val_acc: 0.9986\n",
            "Epoch 96/100\n",
            "3307/3307 [==============================] - 11s 3ms/step - loss: 0.0504 - acc: 0.9811 - val_loss: 0.0931 - val_acc: 0.9718\n",
            "Epoch 97/100\n",
            "3307/3307 [==============================] - 12s 4ms/step - loss: 0.0510 - acc: 0.9803 - val_loss: 0.0711 - val_acc: 0.9843\n",
            "Epoch 98/100\n",
            "3307/3307 [==============================] - 12s 3ms/step - loss: 0.0484 - acc: 0.9816 - val_loss: 0.0337 - val_acc: 0.9955\n",
            "Epoch 99/100\n",
            "3307/3307 [==============================] - 12s 4ms/step - loss: 0.0499 - acc: 0.9806 - val_loss: 0.0314 - val_acc: 0.9984\n",
            "Epoch 100/100\n",
            "3307/3307 [==============================] - 12s 4ms/step - loss: 0.0514 - acc: 0.9807 - val_loss: 0.0838 - val_acc: 0.9801\n"
          ],
          "name": "stdout"
        }
      ]
    },
    {
      "cell_type": "code",
      "metadata": {
        "colab": {
          "base_uri": "https://localhost:8080/"
        },
        "id": "weW38r5mVifJ",
        "outputId": "ae8891f4-fc6f-472a-898a-6d0b9629c219"
      },
      "source": [
        "preds = model.predict(x_test)\n",
        "con_mat=metrics.confusion_matrix(y_test.argmax(axis=1), preds.argmax(axis=1)) \n",
        "print()\n",
        "print()\n",
        "print()    \n",
        "print(\"\\t\\t\\t     CONFUSION MATRIX\")\n",
        "print(\"\\t\\t\\t+------------------------+\")\n",
        "print(\"\\t\\t\\t|\\tTP  |\\tFP\\t |\")\n",
        "print(\"\\t\\t\\t+------------------------+\")\n",
        "print(\"\\t\\t\\t|\\t\",con_mat[0][0],\"|\\t\",con_mat[0][1],\"\\t |\")\n",
        "print(\"\\t\\t\\t+------------------------+\")\n",
        "print(\"\\t\\t\\t|\\t\",con_mat[1][0],\"|\\t\",con_mat[1][1],\"\\t |\")\n",
        "print(\"\\t\\t\\t+------------------------+\")\n",
        "print(\"\\t\\t\\t|\\tFN  |\\tTN\\t |\")\n",
        "print(\"\\t\\t\\t+------------------------+\")\n",
        "print()\n",
        "print()\n",
        "print()"
      ],
      "execution_count": null,
      "outputs": [
        {
          "output_type": "stream",
          "text": [
            "\n",
            "\n",
            "\n",
            "\t\t\t     CONFUSION MATRIX\n",
            "\t\t\t+------------------------+\n",
            "\t\t\t|\tTP  |\tFP\t |\n",
            "\t\t\t+------------------------+\n",
            "\t\t\t|\t 31 |\t 2 \t |\n",
            "\t\t\t+------------------------+\n",
            "\t\t\t|\t 525 |\t 25938 \t |\n",
            "\t\t\t+------------------------+\n",
            "\t\t\t|\tFN  |\tTN\t |\n",
            "\t\t\t+------------------------+\n",
            "\n",
            "\n",
            "\n"
          ],
          "name": "stdout"
        }
      ]
    },
    {
      "cell_type": "code",
      "metadata": {
        "colab": {
          "base_uri": "https://localhost:8080/"
        },
        "id": "5SwXminvVu_2",
        "outputId": "3e7f05ee-15dc-45d0-845b-1e413e3dd33d"
      },
      "source": [
        "#Print the Evaluation Metrics\n",
        "print(metrics.classification_report(y_test.argmax(axis=1), preds.argmax(axis=1)))"
      ],
      "execution_count": null,
      "outputs": [
        {
          "output_type": "stream",
          "text": [
            "              precision    recall  f1-score   support\n",
            "\n",
            "           0       0.06      0.94      0.11        33\n",
            "           1       1.00      0.98      0.99     26463\n",
            "\n",
            "    accuracy                           0.98     26496\n",
            "   macro avg       0.53      0.96      0.55     26496\n",
            "weighted avg       1.00      0.98      0.99     26496\n",
            "\n"
          ],
          "name": "stdout"
        }
      ]
    },
    {
      "cell_type": "code",
      "metadata": {
        "id": "-9KY9wpwVw-w"
      },
      "source": [
        "cm=con_mat"
      ],
      "execution_count": null,
      "outputs": []
    },
    {
      "cell_type": "markdown",
      "metadata": {
        "id": "-nWkF6KEV-mq"
      },
      "source": [
        "CALCULATING METRICS MANUALLY "
      ]
    },
    {
      "cell_type": "code",
      "metadata": {
        "id": "jKBgfhkwWBuv"
      },
      "source": [
        "#Accuracy = (TP+TN)/(TP+TN+FP+FN)"
      ],
      "execution_count": null,
      "outputs": []
    },
    {
      "cell_type": "code",
      "metadata": {
        "colab": {
          "base_uri": "https://localhost:8080/"
        },
        "id": "ydPUGLnuWGPD",
        "outputId": "fea446c4-2c62-4153-af92-e18098560a0c"
      },
      "source": [
        "print(\"Accuracy\",(cm[0][0]+cm[1][1])/cm.sum())"
      ],
      "execution_count": null,
      "outputs": [
        {
          "output_type": "stream",
          "text": [
            "Accuracy 0.9801102053140096\n"
          ],
          "name": "stdout"
        }
      ]
    },
    {
      "cell_type": "code",
      "metadata": {
        "id": "dEzHJUStWGbk"
      },
      "source": [
        "#Precision = TP / (TP+FP)"
      ],
      "execution_count": null,
      "outputs": []
    },
    {
      "cell_type": "code",
      "metadata": {
        "colab": {
          "base_uri": "https://localhost:8080/"
        },
        "id": "bSskJd4BWGmm",
        "outputId": "b4f94dc4-3141-4bb2-8301-08600b9183bd"
      },
      "source": [
        "prec=cm[0][0]/(cm[0][0]+cm[0][1])\n",
        "print(\"Precision\",cm[0][0]/(cm[0][0]+cm[0][1]))"
      ],
      "execution_count": null,
      "outputs": [
        {
          "output_type": "stream",
          "text": [
            "Precision 0.9393939393939394\n"
          ],
          "name": "stdout"
        }
      ]
    },
    {
      "cell_type": "code",
      "metadata": {
        "id": "pnbA-OBEWGxT"
      },
      "source": [
        "#Recall = TP / (TP+FN)"
      ],
      "execution_count": null,
      "outputs": []
    },
    {
      "cell_type": "code",
      "metadata": {
        "colab": {
          "base_uri": "https://localhost:8080/"
        },
        "id": "S5gRrkSNWG7l",
        "outputId": "029fb37a-b8bb-4eb1-9ffc-67de2dd930b6"
      },
      "source": [
        "rec=cm[0][0]/(cm[0][0]+cm[1][0])\n",
        "print(\"Recall\",cm[0][0]/(cm[0][0]+cm[1][0]))"
      ],
      "execution_count": null,
      "outputs": [
        {
          "output_type": "stream",
          "text": [
            "Recall 0.05575539568345324\n"
          ],
          "name": "stdout"
        }
      ]
    },
    {
      "cell_type": "code",
      "metadata": {
        "id": "2UD0WMvkWHGA"
      },
      "source": [
        "#F1-score = 2*[(Precision*Recall)/(Precision+Recall)]"
      ],
      "execution_count": null,
      "outputs": []
    },
    {
      "cell_type": "code",
      "metadata": {
        "colab": {
          "base_uri": "https://localhost:8080/"
        },
        "id": "nwMXQyUhWRPw",
        "outputId": "5e414bbd-bcc5-4845-9037-968580bb7721"
      },
      "source": [
        "print(\"F1 score\",2*(prec*rec/(prec+rec)))"
      ],
      "execution_count": null,
      "outputs": [
        {
          "output_type": "stream",
          "text": [
            "F1 score 0.10526315789473684\n"
          ],
          "name": "stdout"
        }
      ]
    }
  ]
}